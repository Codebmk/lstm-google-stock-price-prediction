{
  "nbformat": 4,
  "nbformat_minor": 0,
  "metadata": {
    "colab": {
      "provenance": [],
      "authorship_tag": "ABX9TyMfdXnwF24VKrF7oYIShHuY",
      "include_colab_link": true
    },
    "kernelspec": {
      "name": "python3",
      "display_name": "Python 3"
    },
    "language_info": {
      "name": "python"
    }
  },
  "cells": [
    {
      "cell_type": "markdown",
      "metadata": {
        "id": "view-in-github",
        "colab_type": "text"
      },
      "source": [
        "<a href=\"https://colab.research.google.com/gist/Codebmk/4f8ab0bd031552bf96b20e7adda33504/lstm-rnn-implementation.ipynb\" target=\"_parent\"><img src=\"https://colab.research.google.com/assets/colab-badge.svg\" alt=\"Open In Colab\"/></a>"
      ]
    },
    {
      "cell_type": "code",
      "execution_count": 1,
      "metadata": {
        "id": "YcDrgLptO2nd"
      },
      "outputs": [],
      "source": [
        "import numpy as np\n",
        "import matplotlib.pyplot as plt\n",
        "import pandas as pd"
      ]
    },
    {
      "cell_type": "code",
      "source": [
        "from google.colab import files\n",
        "upload_file = files.upload()"
      ],
      "metadata": {
        "colab": {
          "base_uri": "https://localhost:8080/",
          "height": 107
        },
        "id": "EJKhk0utPCGa",
        "outputId": "7324b721-65b2-48e1-af29-1c84fa404865"
      },
      "execution_count": 7,
      "outputs": [
        {
          "output_type": "display_data",
          "data": {
            "text/plain": [
              "<IPython.core.display.HTML object>"
            ],
            "text/html": [
              "\n",
              "     <input type=\"file\" id=\"files-d117f665-422d-487b-ad27-1c08730d2e1b\" name=\"files[]\" multiple disabled\n",
              "        style=\"border:none\" />\n",
              "     <output id=\"result-d117f665-422d-487b-ad27-1c08730d2e1b\">\n",
              "      Upload widget is only available when the cell has been executed in the\n",
              "      current browser session. Please rerun this cell to enable.\n",
              "      </output>\n",
              "      <script>// Copyright 2017 Google LLC\n",
              "//\n",
              "// Licensed under the Apache License, Version 2.0 (the \"License\");\n",
              "// you may not use this file except in compliance with the License.\n",
              "// You may obtain a copy of the License at\n",
              "//\n",
              "//      http://www.apache.org/licenses/LICENSE-2.0\n",
              "//\n",
              "// Unless required by applicable law or agreed to in writing, software\n",
              "// distributed under the License is distributed on an \"AS IS\" BASIS,\n",
              "// WITHOUT WARRANTIES OR CONDITIONS OF ANY KIND, either express or implied.\n",
              "// See the License for the specific language governing permissions and\n",
              "// limitations under the License.\n",
              "\n",
              "/**\n",
              " * @fileoverview Helpers for google.colab Python module.\n",
              " */\n",
              "(function(scope) {\n",
              "function span(text, styleAttributes = {}) {\n",
              "  const element = document.createElement('span');\n",
              "  element.textContent = text;\n",
              "  for (const key of Object.keys(styleAttributes)) {\n",
              "    element.style[key] = styleAttributes[key];\n",
              "  }\n",
              "  return element;\n",
              "}\n",
              "\n",
              "// Max number of bytes which will be uploaded at a time.\n",
              "const MAX_PAYLOAD_SIZE = 100 * 1024;\n",
              "\n",
              "function _uploadFiles(inputId, outputId) {\n",
              "  const steps = uploadFilesStep(inputId, outputId);\n",
              "  const outputElement = document.getElementById(outputId);\n",
              "  // Cache steps on the outputElement to make it available for the next call\n",
              "  // to uploadFilesContinue from Python.\n",
              "  outputElement.steps = steps;\n",
              "\n",
              "  return _uploadFilesContinue(outputId);\n",
              "}\n",
              "\n",
              "// This is roughly an async generator (not supported in the browser yet),\n",
              "// where there are multiple asynchronous steps and the Python side is going\n",
              "// to poll for completion of each step.\n",
              "// This uses a Promise to block the python side on completion of each step,\n",
              "// then passes the result of the previous step as the input to the next step.\n",
              "function _uploadFilesContinue(outputId) {\n",
              "  const outputElement = document.getElementById(outputId);\n",
              "  const steps = outputElement.steps;\n",
              "\n",
              "  const next = steps.next(outputElement.lastPromiseValue);\n",
              "  return Promise.resolve(next.value.promise).then((value) => {\n",
              "    // Cache the last promise value to make it available to the next\n",
              "    // step of the generator.\n",
              "    outputElement.lastPromiseValue = value;\n",
              "    return next.value.response;\n",
              "  });\n",
              "}\n",
              "\n",
              "/**\n",
              " * Generator function which is called between each async step of the upload\n",
              " * process.\n",
              " * @param {string} inputId Element ID of the input file picker element.\n",
              " * @param {string} outputId Element ID of the output display.\n",
              " * @return {!Iterable<!Object>} Iterable of next steps.\n",
              " */\n",
              "function* uploadFilesStep(inputId, outputId) {\n",
              "  const inputElement = document.getElementById(inputId);\n",
              "  inputElement.disabled = false;\n",
              "\n",
              "  const outputElement = document.getElementById(outputId);\n",
              "  outputElement.innerHTML = '';\n",
              "\n",
              "  const pickedPromise = new Promise((resolve) => {\n",
              "    inputElement.addEventListener('change', (e) => {\n",
              "      resolve(e.target.files);\n",
              "    });\n",
              "  });\n",
              "\n",
              "  const cancel = document.createElement('button');\n",
              "  inputElement.parentElement.appendChild(cancel);\n",
              "  cancel.textContent = 'Cancel upload';\n",
              "  const cancelPromise = new Promise((resolve) => {\n",
              "    cancel.onclick = () => {\n",
              "      resolve(null);\n",
              "    };\n",
              "  });\n",
              "\n",
              "  // Wait for the user to pick the files.\n",
              "  const files = yield {\n",
              "    promise: Promise.race([pickedPromise, cancelPromise]),\n",
              "    response: {\n",
              "      action: 'starting',\n",
              "    }\n",
              "  };\n",
              "\n",
              "  cancel.remove();\n",
              "\n",
              "  // Disable the input element since further picks are not allowed.\n",
              "  inputElement.disabled = true;\n",
              "\n",
              "  if (!files) {\n",
              "    return {\n",
              "      response: {\n",
              "        action: 'complete',\n",
              "      }\n",
              "    };\n",
              "  }\n",
              "\n",
              "  for (const file of files) {\n",
              "    const li = document.createElement('li');\n",
              "    li.append(span(file.name, {fontWeight: 'bold'}));\n",
              "    li.append(span(\n",
              "        `(${file.type || 'n/a'}) - ${file.size} bytes, ` +\n",
              "        `last modified: ${\n",
              "            file.lastModifiedDate ? file.lastModifiedDate.toLocaleDateString() :\n",
              "                                    'n/a'} - `));\n",
              "    const percent = span('0% done');\n",
              "    li.appendChild(percent);\n",
              "\n",
              "    outputElement.appendChild(li);\n",
              "\n",
              "    const fileDataPromise = new Promise((resolve) => {\n",
              "      const reader = new FileReader();\n",
              "      reader.onload = (e) => {\n",
              "        resolve(e.target.result);\n",
              "      };\n",
              "      reader.readAsArrayBuffer(file);\n",
              "    });\n",
              "    // Wait for the data to be ready.\n",
              "    let fileData = yield {\n",
              "      promise: fileDataPromise,\n",
              "      response: {\n",
              "        action: 'continue',\n",
              "      }\n",
              "    };\n",
              "\n",
              "    // Use a chunked sending to avoid message size limits. See b/62115660.\n",
              "    let position = 0;\n",
              "    do {\n",
              "      const length = Math.min(fileData.byteLength - position, MAX_PAYLOAD_SIZE);\n",
              "      const chunk = new Uint8Array(fileData, position, length);\n",
              "      position += length;\n",
              "\n",
              "      const base64 = btoa(String.fromCharCode.apply(null, chunk));\n",
              "      yield {\n",
              "        response: {\n",
              "          action: 'append',\n",
              "          file: file.name,\n",
              "          data: base64,\n",
              "        },\n",
              "      };\n",
              "\n",
              "      let percentDone = fileData.byteLength === 0 ?\n",
              "          100 :\n",
              "          Math.round((position / fileData.byteLength) * 100);\n",
              "      percent.textContent = `${percentDone}% done`;\n",
              "\n",
              "    } while (position < fileData.byteLength);\n",
              "  }\n",
              "\n",
              "  // All done.\n",
              "  yield {\n",
              "    response: {\n",
              "      action: 'complete',\n",
              "    }\n",
              "  };\n",
              "}\n",
              "\n",
              "scope.google = scope.google || {};\n",
              "scope.google.colab = scope.google.colab || {};\n",
              "scope.google.colab._files = {\n",
              "  _uploadFiles,\n",
              "  _uploadFilesContinue,\n",
              "};\n",
              "})(self);\n",
              "</script> "
            ]
          },
          "metadata": {}
        },
        {
          "output_type": "stream",
          "name": "stdout",
          "text": [
            "Saving Google_Stock_Price_Train.csv to Google_Stock_Price_Train.csv\n",
            "Saving Google_Stock_Price_Test.csv to Google_Stock_Price_Test.csv\n"
          ]
        }
      ]
    },
    {
      "cell_type": "code",
      "source": [
        "import io\n",
        "dataset_train = pd.read_csv(io.BytesIO(upload_file['Google_Stock_Price_Train.csv']))\n",
        "training_set = dataset_train.iloc[:, 1:2].values\n",
        "\n",
        "training_set[0]"
      ],
      "metadata": {
        "colab": {
          "base_uri": "https://localhost:8080/"
        },
        "id": "HVsxnOlSSs5G",
        "outputId": "7b269f9b-0e10-4ab5-efcd-5565c161a2d4"
      },
      "execution_count": 10,
      "outputs": [
        {
          "output_type": "execute_result",
          "data": {
            "text/plain": [
              "array([325.25])"
            ]
          },
          "metadata": {},
          "execution_count": 10
        }
      ]
    },
    {
      "cell_type": "code",
      "source": [
        "from sklearn.preprocessing import MinMaxScaler\n",
        "sc = MinMaxScaler(feature_range = (0,1))\n",
        "training_set_scaled = sc.fit_transform(training_set)\n",
        "\n",
        "training_set_scaled"
      ],
      "metadata": {
        "colab": {
          "base_uri": "https://localhost:8080/"
        },
        "id": "673F4dqNSp6o",
        "outputId": "cacde881-9606-497e-c50f-e026b33385b3"
      },
      "execution_count": 14,
      "outputs": [
        {
          "output_type": "execute_result",
          "data": {
            "text/plain": [
              "array([[0.08581368],\n",
              "       [0.09701243],\n",
              "       [0.09433366],\n",
              "       ...,\n",
              "       [0.95725128],\n",
              "       [0.93796041],\n",
              "       [0.93688146]])"
            ]
          },
          "metadata": {},
          "execution_count": 14
        }
      ]
    },
    {
      "cell_type": "code",
      "source": [
        "X_train = []\n",
        "y_train = []\n",
        "\n",
        "for i in range(60, 1258):\n",
        "  X_train.append(training_set_scaled[i-60:i, 0])\n",
        "  y_train.append(training_set_scaled[i, 0])\n",
        "\n",
        "X_train, y_train = np.array(X_train), np.array(y_train)\n",
        "\n",
        "X_train = np.reshape(X_train, (X_train.shape[0], X_train.shape[1], 1))\n",
        "X_train"
      ],
      "metadata": {
        "colab": {
          "base_uri": "https://localhost:8080/"
        },
        "id": "yL5V774hVG74",
        "outputId": "e26a8471-675b-4e4b-cdc5-683b6bd522b2"
      },
      "execution_count": 16,
      "outputs": [
        {
          "output_type": "execute_result",
          "data": {
            "text/plain": [
              "array([[[0.08581368],\n",
              "        [0.09701243],\n",
              "        [0.09433366],\n",
              "        ...,\n",
              "        [0.07846566],\n",
              "        [0.08034452],\n",
              "        [0.08497656]],\n",
              "\n",
              "       [[0.09701243],\n",
              "        [0.09433366],\n",
              "        [0.09156187],\n",
              "        ...,\n",
              "        [0.08034452],\n",
              "        [0.08497656],\n",
              "        [0.08627874]],\n",
              "\n",
              "       [[0.09433366],\n",
              "        [0.09156187],\n",
              "        [0.07984225],\n",
              "        ...,\n",
              "        [0.08497656],\n",
              "        [0.08627874],\n",
              "        [0.08471612]],\n",
              "\n",
              "       ...,\n",
              "\n",
              "       [[0.92106928],\n",
              "        [0.92438053],\n",
              "        [0.93048218],\n",
              "        ...,\n",
              "        [0.95475854],\n",
              "        [0.95204256],\n",
              "        [0.95163331]],\n",
              "\n",
              "       [[0.92438053],\n",
              "        [0.93048218],\n",
              "        [0.9299055 ],\n",
              "        ...,\n",
              "        [0.95204256],\n",
              "        [0.95163331],\n",
              "        [0.95725128]],\n",
              "\n",
              "       [[0.93048218],\n",
              "        [0.9299055 ],\n",
              "        [0.93113327],\n",
              "        ...,\n",
              "        [0.95163331],\n",
              "        [0.95725128],\n",
              "        [0.93796041]]])"
            ]
          },
          "metadata": {},
          "execution_count": 16
        }
      ]
    },
    {
      "cell_type": "code",
      "source": [
        " from keras.models import Sequential\n",
        " from keras.layers import Dense\n",
        " from keras.layers import LSTM\n",
        " from keras.layers import Dropout"
      ],
      "metadata": {
        "id": "FLvV7Y_2WU6c"
      },
      "execution_count": 17,
      "outputs": []
    },
    {
      "cell_type": "code",
      "source": [
        "regressor = Sequential()"
      ],
      "metadata": {
        "id": "JRUab_drXYBw"
      },
      "execution_count": 18,
      "outputs": []
    },
    {
      "cell_type": "code",
      "source": [
        "regressor.add(LSTM(units = 50, return_sequences=True, input_shape=(X_train.shape[1], 1)))\n",
        "regressor.add(Dropout(0.2))"
      ],
      "metadata": {
        "id": "o4wnENZlXc6F"
      },
      "execution_count": 19,
      "outputs": []
    },
    {
      "cell_type": "code",
      "source": [
        "regressor.add(LSTM(units = 50, return_sequences=True))\n",
        "regressor.add(Dropout(0.2))"
      ],
      "metadata": {
        "id": "rElGKM_zYWYl"
      },
      "execution_count": 20,
      "outputs": []
    },
    {
      "cell_type": "code",
      "source": [
        "regressor.add(LSTM(units = 50, return_sequences=True))\n",
        "regressor.add(Dropout(0.2))"
      ],
      "metadata": {
        "id": "QeMfXrC_YeVa"
      },
      "execution_count": 21,
      "outputs": []
    },
    {
      "cell_type": "code",
      "source": [
        "regressor.add(LSTM(units = 50))\n",
        "regressor.add(Dropout(0.2))"
      ],
      "metadata": {
        "id": "1z8-broKYi8G"
      },
      "execution_count": 22,
      "outputs": []
    },
    {
      "cell_type": "code",
      "source": [
        "regressor.add(Dense(units=1))"
      ],
      "metadata": {
        "id": "8bwRaXTOYnqZ"
      },
      "execution_count": 23,
      "outputs": []
    },
    {
      "cell_type": "code",
      "source": [
        "regressor.compile(optimizer=\"adam\", loss=\"mean_squared_error\")"
      ],
      "metadata": {
        "id": "SlgbKJlIZg-G"
      },
      "execution_count": 24,
      "outputs": []
    },
    {
      "cell_type": "code",
      "source": [
        "regressor.fit(X_train, y_train, epochs=100, batch_size=32)"
      ],
      "metadata": {
        "colab": {
          "base_uri": "https://localhost:8080/"
        },
        "id": "VROGx4WJZt14",
        "outputId": "a9942e0b-0248-4c80-ef51-f9c4b8fe4030"
      },
      "execution_count": 25,
      "outputs": [
        {
          "output_type": "stream",
          "name": "stdout",
          "text": [
            "Epoch 1/100\n",
            "38/38 [==============================] - 16s 154ms/step - loss: 0.0356\n",
            "Epoch 2/100\n",
            "38/38 [==============================] - 5s 136ms/step - loss: 0.0063\n",
            "Epoch 3/100\n",
            "38/38 [==============================] - 6s 170ms/step - loss: 0.0052\n",
            "Epoch 4/100\n",
            "38/38 [==============================] - 5s 138ms/step - loss: 0.0056\n",
            "Epoch 5/100\n",
            "38/38 [==============================] - 6s 169ms/step - loss: 0.0058\n",
            "Epoch 6/100\n",
            "38/38 [==============================] - 5s 138ms/step - loss: 0.0045\n",
            "Epoch 7/100\n",
            "38/38 [==============================] - 6s 170ms/step - loss: 0.0047\n",
            "Epoch 8/100\n",
            "38/38 [==============================] - 5s 141ms/step - loss: 0.0043\n",
            "Epoch 9/100\n",
            "38/38 [==============================] - 9s 223ms/step - loss: 0.0039\n",
            "Epoch 10/100\n",
            "38/38 [==============================] - 5s 140ms/step - loss: 0.0048\n",
            "Epoch 11/100\n",
            "38/38 [==============================] - 6s 172ms/step - loss: 0.0039\n",
            "Epoch 12/100\n",
            "38/38 [==============================] - 5s 140ms/step - loss: 0.0048\n",
            "Epoch 13/100\n",
            "38/38 [==============================] - 6s 161ms/step - loss: 0.0037\n",
            "Epoch 14/100\n",
            "38/38 [==============================] - 7s 172ms/step - loss: 0.0037\n",
            "Epoch 15/100\n",
            "38/38 [==============================] - 6s 154ms/step - loss: 0.0043\n",
            "Epoch 16/100\n",
            "38/38 [==============================] - 6s 153ms/step - loss: 0.0033\n",
            "Epoch 17/100\n",
            "38/38 [==============================] - 5s 144ms/step - loss: 0.0035\n",
            "Epoch 18/100\n",
            "38/38 [==============================] - 8s 206ms/step - loss: 0.0038\n",
            "Epoch 19/100\n",
            "38/38 [==============================] - 6s 167ms/step - loss: 0.0040\n",
            "Epoch 20/100\n",
            "38/38 [==============================] - 8s 201ms/step - loss: 0.0036\n",
            "Epoch 21/100\n",
            "38/38 [==============================] - 8s 217ms/step - loss: 0.0035\n",
            "Epoch 22/100\n",
            "38/38 [==============================] - 7s 188ms/step - loss: 0.0036\n",
            "Epoch 23/100\n",
            "38/38 [==============================] - 9s 230ms/step - loss: 0.0035\n",
            "Epoch 24/100\n",
            "38/38 [==============================] - 7s 178ms/step - loss: 0.0038\n",
            "Epoch 25/100\n",
            "38/38 [==============================] - 8s 204ms/step - loss: 0.0034\n",
            "Epoch 26/100\n",
            "38/38 [==============================] - 8s 207ms/step - loss: 0.0037\n",
            "Epoch 27/100\n",
            "38/38 [==============================] - 7s 174ms/step - loss: 0.0032\n",
            "Epoch 28/100\n",
            "38/38 [==============================] - 8s 207ms/step - loss: 0.0035\n",
            "Epoch 29/100\n",
            "38/38 [==============================] - 6s 166ms/step - loss: 0.0029\n",
            "Epoch 30/100\n",
            "38/38 [==============================] - 8s 200ms/step - loss: 0.0031\n",
            "Epoch 31/100\n",
            "38/38 [==============================] - 6s 156ms/step - loss: 0.0027\n",
            "Epoch 32/100\n",
            "38/38 [==============================] - 8s 203ms/step - loss: 0.0028\n",
            "Epoch 33/100\n",
            "38/38 [==============================] - 6s 145ms/step - loss: 0.0031\n",
            "Epoch 34/100\n",
            "38/38 [==============================] - 8s 200ms/step - loss: 0.0031\n",
            "Epoch 35/100\n",
            "38/38 [==============================] - 6s 170ms/step - loss: 0.0030\n",
            "Epoch 36/100\n",
            "38/38 [==============================] - 7s 191ms/step - loss: 0.0025\n",
            "Epoch 37/100\n",
            "38/38 [==============================] - 6s 166ms/step - loss: 0.0031\n",
            "Epoch 38/100\n",
            "38/38 [==============================] - 8s 209ms/step - loss: 0.0028\n",
            "Epoch 39/100\n",
            "38/38 [==============================] - 6s 161ms/step - loss: 0.0028\n",
            "Epoch 40/100\n",
            "38/38 [==============================] - 8s 204ms/step - loss: 0.0025\n",
            "Epoch 41/100\n",
            "38/38 [==============================] - 7s 185ms/step - loss: 0.0025\n",
            "Epoch 42/100\n",
            "38/38 [==============================] - 7s 175ms/step - loss: 0.0025\n",
            "Epoch 43/100\n",
            "38/38 [==============================] - 7s 178ms/step - loss: 0.0029\n",
            "Epoch 44/100\n",
            "38/38 [==============================] - 7s 194ms/step - loss: 0.0025\n",
            "Epoch 45/100\n",
            "38/38 [==============================] - 7s 186ms/step - loss: 0.0025\n",
            "Epoch 46/100\n",
            "38/38 [==============================] - 6s 162ms/step - loss: 0.0030\n",
            "Epoch 47/100\n",
            "38/38 [==============================] - 8s 210ms/step - loss: 0.0028\n",
            "Epoch 48/100\n",
            "38/38 [==============================] - 6s 156ms/step - loss: 0.0022\n",
            "Epoch 49/100\n",
            "38/38 [==============================] - 7s 194ms/step - loss: 0.0025\n",
            "Epoch 50/100\n",
            "38/38 [==============================] - 7s 191ms/step - loss: 0.0028\n",
            "Epoch 51/100\n",
            "38/38 [==============================] - 7s 195ms/step - loss: 0.0023\n",
            "Epoch 52/100\n",
            "38/38 [==============================] - 6s 152ms/step - loss: 0.0025\n",
            "Epoch 53/100\n",
            "38/38 [==============================] - 8s 203ms/step - loss: 0.0025\n",
            "Epoch 54/100\n",
            "38/38 [==============================] - 6s 150ms/step - loss: 0.0022\n",
            "Epoch 55/100\n",
            "38/38 [==============================] - 8s 208ms/step - loss: 0.0022\n",
            "Epoch 56/100\n",
            "38/38 [==============================] - 8s 199ms/step - loss: 0.0021\n",
            "Epoch 57/100\n",
            "38/38 [==============================] - 7s 183ms/step - loss: 0.0022\n",
            "Epoch 58/100\n",
            "38/38 [==============================] - 8s 220ms/step - loss: 0.0022\n",
            "Epoch 59/100\n",
            "38/38 [==============================] - 7s 181ms/step - loss: 0.0021\n",
            "Epoch 60/100\n",
            "38/38 [==============================] - 8s 224ms/step - loss: 0.0020\n",
            "Epoch 61/100\n",
            "38/38 [==============================] - 7s 194ms/step - loss: 0.0020\n",
            "Epoch 62/100\n",
            "38/38 [==============================] - 9s 223ms/step - loss: 0.0020\n",
            "Epoch 63/100\n",
            "38/38 [==============================] - 7s 190ms/step - loss: 0.0022\n",
            "Epoch 64/100\n",
            "38/38 [==============================] - 7s 184ms/step - loss: 0.0021\n",
            "Epoch 65/100\n",
            "38/38 [==============================] - 8s 216ms/step - loss: 0.0019\n",
            "Epoch 66/100\n",
            "38/38 [==============================] - 7s 173ms/step - loss: 0.0021\n",
            "Epoch 67/100\n",
            "38/38 [==============================] - 9s 225ms/step - loss: 0.0020\n",
            "Epoch 68/100\n",
            "38/38 [==============================] - 7s 194ms/step - loss: 0.0020\n",
            "Epoch 69/100\n",
            "38/38 [==============================] - 8s 203ms/step - loss: 0.0022\n",
            "Epoch 70/100\n",
            "38/38 [==============================] - 8s 215ms/step - loss: 0.0019\n",
            "Epoch 71/100\n",
            "38/38 [==============================] - 7s 176ms/step - loss: 0.0020\n",
            "Epoch 72/100\n",
            "38/38 [==============================] - 8s 224ms/step - loss: 0.0019\n",
            "Epoch 73/100\n",
            "38/38 [==============================] - 7s 185ms/step - loss: 0.0021\n",
            "Epoch 74/100\n",
            "38/38 [==============================] - 8s 204ms/step - loss: 0.0018\n",
            "Epoch 75/100\n",
            "38/38 [==============================] - 9s 226ms/step - loss: 0.0018\n",
            "Epoch 76/100\n",
            "38/38 [==============================] - 8s 193ms/step - loss: 0.0018\n",
            "Epoch 77/100\n",
            "38/38 [==============================] - 8s 212ms/step - loss: 0.0017\n",
            "Epoch 78/100\n",
            "38/38 [==============================] - 6s 155ms/step - loss: 0.0018\n",
            "Epoch 79/100\n",
            "38/38 [==============================] - 7s 184ms/step - loss: 0.0017\n",
            "Epoch 80/100\n",
            "38/38 [==============================] - 6s 155ms/step - loss: 0.0018\n",
            "Epoch 81/100\n",
            "38/38 [==============================] - 7s 184ms/step - loss: 0.0016\n",
            "Epoch 82/100\n",
            "38/38 [==============================] - 6s 149ms/step - loss: 0.0018\n",
            "Epoch 83/100\n",
            "38/38 [==============================] - 7s 175ms/step - loss: 0.0016\n",
            "Epoch 84/100\n",
            "38/38 [==============================] - 5s 140ms/step - loss: 0.0018\n",
            "Epoch 85/100\n",
            "38/38 [==============================] - 7s 176ms/step - loss: 0.0019\n",
            "Epoch 86/100\n",
            "38/38 [==============================] - 6s 147ms/step - loss: 0.0017\n",
            "Epoch 87/100\n",
            "38/38 [==============================] - 6s 169ms/step - loss: 0.0016\n",
            "Epoch 88/100\n",
            "38/38 [==============================] - 6s 147ms/step - loss: 0.0016\n",
            "Epoch 89/100\n",
            "38/38 [==============================] - 5s 144ms/step - loss: 0.0017\n",
            "Epoch 90/100\n",
            "38/38 [==============================] - 6s 164ms/step - loss: 0.0015\n",
            "Epoch 91/100\n",
            "38/38 [==============================] - 6s 147ms/step - loss: 0.0016\n",
            "Epoch 92/100\n",
            "38/38 [==============================] - 7s 173ms/step - loss: 0.0014\n",
            "Epoch 93/100\n",
            "38/38 [==============================] - 5s 139ms/step - loss: 0.0015\n",
            "Epoch 94/100\n",
            "38/38 [==============================] - 6s 170ms/step - loss: 0.0015\n",
            "Epoch 95/100\n",
            "38/38 [==============================] - 6s 149ms/step - loss: 0.0015\n",
            "Epoch 96/100\n",
            "38/38 [==============================] - 7s 176ms/step - loss: 0.0016\n",
            "Epoch 97/100\n",
            "38/38 [==============================] - 5s 139ms/step - loss: 0.0018\n",
            "Epoch 98/100\n",
            "38/38 [==============================] - 6s 168ms/step - loss: 0.0015\n",
            "Epoch 99/100\n",
            "38/38 [==============================] - 5s 138ms/step - loss: 0.0014\n",
            "Epoch 100/100\n",
            "38/38 [==============================] - 6s 157ms/step - loss: 0.0015\n"
          ]
        },
        {
          "output_type": "execute_result",
          "data": {
            "text/plain": [
              "<keras.callbacks.History at 0x7efcd829adc0>"
            ]
          },
          "metadata": {},
          "execution_count": 25
        }
      ]
    },
    {
      "cell_type": "code",
      "source": [
        "dataset_test = pd.read_csv('Google_Stock_Price_Test.csv')\n",
        "real_stock_price = dataset_test.iloc[:, 1:2].values"
      ],
      "metadata": {
        "id": "-4qtEX7IZ8pX"
      },
      "execution_count": 26,
      "outputs": []
    },
    {
      "cell_type": "code",
      "source": [
        "dataset_total = pd.concat((dataset_train['Open'], dataset_test['Open']), axis=0)\n",
        "inputs = dataset_total[len(dataset_total) - len(dataset_test) - 60:].values\n",
        "inputs = inputs.reshape(-1,1)\n",
        "inputs = sc.transform(inputs)\n",
        "\n",
        "X_test = []\n",
        "for i in range(60,80):\n",
        "  X_test.append(inputs[i-60:i, 0])\n",
        "X_test = np.array(X_test)\n",
        "X_test = np.reshape(X_test, (X_test.shape[0], X_test.shape[1], 1))\n",
        "predicted_stock_price = regressor.predict(X_test)\n",
        "predicted_stock_price = sc.inverse_transform(predicted_stock_price)"
      ],
      "metadata": {
        "colab": {
          "base_uri": "https://localhost:8080/"
        },
        "id": "NuZ7zqt2dMOk",
        "outputId": "dec29852-f5fe-4a42-bb55-010ad4ba8d4e"
      },
      "execution_count": 28,
      "outputs": [
        {
          "output_type": "stream",
          "name": "stdout",
          "text": [
            "1/1 [==============================] - 2s 2s/step\n"
          ]
        }
      ]
    },
    {
      "cell_type": "code",
      "source": [
        "plt.plot(real_stock_price, color=\"red\", label=\"Real Google Stock Price\")\n",
        "plt.plot(predicted_stock_price, color=\"blue\", label=\"Predicted Google Stock Price\")\n",
        "plt.title(\"Google Stock Price Prediction\")\n",
        "plt.xlabel(\"Time\")\n",
        "plt.ylabel(\"Google Stock Price\")\n",
        "plt.legend()\n",
        "plt.show()"
      ],
      "metadata": {
        "colab": {
          "base_uri": "https://localhost:8080/",
          "height": 295
        },
        "id": "R32fsZmwkJf5",
        "outputId": "2d112f8e-2efa-43ad-c5b3-92fc6b46e797"
      },
      "execution_count": 29,
      "outputs": [
        {
          "output_type": "display_data",
          "data": {
            "text/plain": [
              "<Figure size 432x288 with 1 Axes>"
            ],
            "image/png": "[encoded data removed]"
          },
          "metadata": {
            "needs_background": "light"
          }
        }
      ]
    },
    {
      "cell_type": "code",
      "source": [],
      "metadata": {
        "id": "1pA4T0CklBHN"
      },
      "execution_count": null,
      "outputs": []
    }
  ]
}